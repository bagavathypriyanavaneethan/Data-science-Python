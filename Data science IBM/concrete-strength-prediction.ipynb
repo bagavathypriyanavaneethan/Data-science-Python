{
 "cells": [
  {
   "cell_type": "code",
   "execution_count": 1,
   "metadata": {
    "_cell_guid": "b1076dfc-b9ad-4769-8c92-a6c4dae69d19",
    "_uuid": "8f2839f25d086af736a60e9eeb907d3b93b6e0e5",
    "execution": {
     "iopub.execute_input": "2020-11-19T07:24:57.650502Z",
     "iopub.status.busy": "2020-11-19T07:24:57.649517Z",
     "iopub.status.idle": "2020-11-19T07:24:57.657830Z",
     "shell.execute_reply": "2020-11-19T07:24:57.657244Z"
    },
    "papermill": {
     "duration": 0.033501,
     "end_time": "2020-11-19T07:24:57.657954",
     "exception": false,
     "start_time": "2020-11-19T07:24:57.624453",
     "status": "completed"
    },
    "tags": []
   },
   "outputs": [
    {
     "name": "stdout",
     "output_type": "stream",
     "text": [
      "/kaggle/input/regression-with-neural-networking/concrete_data.csv\n"
     ]
    }
   ],
   "source": [
    "# This Python 3 environment comes with many helpful analytics libraries installed\n",
    "# It is defined by the kaggle/python Docker image: https://github.com/kaggle/docker-python\n",
    "# For example, here's several helpful packages to load\n",
    "\n",
    "import numpy as np # linear algebra\n",
    "import pandas as pd # data processing, CSV file I/O (e.g. pd.read_csv)\n",
    "\n",
    "# Input data files are available in the read-only \"../input/\" directory\n",
    "# For example, running this (by clicking run or pressing Shift+Enter) will list all files under the input directory\n",
    "\n",
    "import os\n",
    "for dirname, _, filenames in os.walk('/kaggle/input'):\n",
    "    for filename in filenames:\n",
    "        print(os.path.join(dirname, filename))\n",
    "\n",
    "# You can write up to 20GB to the current directory (/kaggle/working/) that gets preserved as output when you create a version using \"Save & Run All\" \n",
    "# You can also write temporary files to /kaggle/temp/, but they won't be saved outside of the current session"
   ]
  },
  {
   "cell_type": "code",
   "execution_count": 2,
   "metadata": {
    "_cell_guid": "79c7e3d0-c299-4dcb-8224-4455121ee9b0",
    "_uuid": "d629ff2d2480ee46fbb7e2d37f6b5fab8052498a",
    "execution": {
     "iopub.execute_input": "2020-11-19T07:24:57.700040Z",
     "iopub.status.busy": "2020-11-19T07:24:57.698912Z",
     "iopub.status.idle": "2020-11-19T07:24:57.710212Z",
     "shell.execute_reply": "2020-11-19T07:24:57.709424Z"
    },
    "papermill": {
     "duration": 0.034586,
     "end_time": "2020-11-19T07:24:57.710330",
     "exception": false,
     "start_time": "2020-11-19T07:24:57.675744",
     "status": "completed"
    },
    "tags": []
   },
   "outputs": [],
   "source": [
    "df=pd.read_csv('../input/regression-with-neural-networking/concrete_data.csv')"
   ]
  },
  {
   "cell_type": "code",
   "execution_count": 3,
   "metadata": {
    "execution": {
     "iopub.execute_input": "2020-11-19T07:24:57.763146Z",
     "iopub.status.busy": "2020-11-19T07:24:57.760748Z",
     "iopub.status.idle": "2020-11-19T07:24:57.775196Z",
     "shell.execute_reply": "2020-11-19T07:24:57.775842Z"
    },
    "papermill": {
     "duration": 0.048039,
     "end_time": "2020-11-19T07:24:57.776001",
     "exception": false,
     "start_time": "2020-11-19T07:24:57.727962",
     "status": "completed"
    },
    "tags": []
   },
   "outputs": [
    {
     "data": {
      "text/html": [
       "<div>\n",
       "<style scoped>\n",
       "    .dataframe tbody tr th:only-of-type {\n",
       "        vertical-align: middle;\n",
       "    }\n",
       "\n",
       "    .dataframe tbody tr th {\n",
       "        vertical-align: top;\n",
       "    }\n",
       "\n",
       "    .dataframe thead th {\n",
       "        text-align: right;\n",
       "    }\n",
       "</style>\n",
       "<table border=\"1\" class=\"dataframe\">\n",
       "  <thead>\n",
       "    <tr style=\"text-align: right;\">\n",
       "      <th></th>\n",
       "      <th>Cement</th>\n",
       "      <th>Blast Furnace Slag</th>\n",
       "      <th>Fly Ash</th>\n",
       "      <th>Water</th>\n",
       "      <th>Superplasticizer</th>\n",
       "      <th>Coarse Aggregate</th>\n",
       "      <th>Fine Aggregate</th>\n",
       "      <th>Age</th>\n",
       "      <th>Strength</th>\n",
       "    </tr>\n",
       "  </thead>\n",
       "  <tbody>\n",
       "    <tr>\n",
       "      <th>0</th>\n",
       "      <td>540.0</td>\n",
       "      <td>0.0</td>\n",
       "      <td>0.0</td>\n",
       "      <td>162.0</td>\n",
       "      <td>2.5</td>\n",
       "      <td>1040.0</td>\n",
       "      <td>676.0</td>\n",
       "      <td>28</td>\n",
       "      <td>79.99</td>\n",
       "    </tr>\n",
       "    <tr>\n",
       "      <th>1</th>\n",
       "      <td>540.0</td>\n",
       "      <td>0.0</td>\n",
       "      <td>0.0</td>\n",
       "      <td>162.0</td>\n",
       "      <td>2.5</td>\n",
       "      <td>1055.0</td>\n",
       "      <td>676.0</td>\n",
       "      <td>28</td>\n",
       "      <td>61.89</td>\n",
       "    </tr>\n",
       "    <tr>\n",
       "      <th>2</th>\n",
       "      <td>332.5</td>\n",
       "      <td>142.5</td>\n",
       "      <td>0.0</td>\n",
       "      <td>228.0</td>\n",
       "      <td>0.0</td>\n",
       "      <td>932.0</td>\n",
       "      <td>594.0</td>\n",
       "      <td>270</td>\n",
       "      <td>40.27</td>\n",
       "    </tr>\n",
       "    <tr>\n",
       "      <th>3</th>\n",
       "      <td>332.5</td>\n",
       "      <td>142.5</td>\n",
       "      <td>0.0</td>\n",
       "      <td>228.0</td>\n",
       "      <td>0.0</td>\n",
       "      <td>932.0</td>\n",
       "      <td>594.0</td>\n",
       "      <td>365</td>\n",
       "      <td>41.05</td>\n",
       "    </tr>\n",
       "    <tr>\n",
       "      <th>4</th>\n",
       "      <td>198.6</td>\n",
       "      <td>132.4</td>\n",
       "      <td>0.0</td>\n",
       "      <td>192.0</td>\n",
       "      <td>0.0</td>\n",
       "      <td>978.4</td>\n",
       "      <td>825.5</td>\n",
       "      <td>360</td>\n",
       "      <td>44.30</td>\n",
       "    </tr>\n",
       "  </tbody>\n",
       "</table>\n",
       "</div>"
      ],
      "text/plain": [
       "   Cement  Blast Furnace Slag  Fly Ash  Water  Superplasticizer  \\\n",
       "0   540.0                 0.0      0.0  162.0               2.5   \n",
       "1   540.0                 0.0      0.0  162.0               2.5   \n",
       "2   332.5               142.5      0.0  228.0               0.0   \n",
       "3   332.5               142.5      0.0  228.0               0.0   \n",
       "4   198.6               132.4      0.0  192.0               0.0   \n",
       "\n",
       "   Coarse Aggregate  Fine Aggregate  Age  Strength  \n",
       "0            1040.0           676.0   28     79.99  \n",
       "1            1055.0           676.0   28     61.89  \n",
       "2             932.0           594.0  270     40.27  \n",
       "3             932.0           594.0  365     41.05  \n",
       "4             978.4           825.5  360     44.30  "
      ]
     },
     "execution_count": 3,
     "metadata": {},
     "output_type": "execute_result"
    }
   ],
   "source": [
    "df.head()"
   ]
  },
  {
   "cell_type": "code",
   "execution_count": 4,
   "metadata": {
    "execution": {
     "iopub.execute_input": "2020-11-19T07:24:57.819440Z",
     "iopub.status.busy": "2020-11-19T07:24:57.818439Z",
     "iopub.status.idle": "2020-11-19T07:24:57.822025Z",
     "shell.execute_reply": "2020-11-19T07:24:57.822684Z"
    },
    "papermill": {
     "duration": 0.028627,
     "end_time": "2020-11-19T07:24:57.822832",
     "exception": false,
     "start_time": "2020-11-19T07:24:57.794205",
     "status": "completed"
    },
    "tags": []
   },
   "outputs": [
    {
     "data": {
      "text/plain": [
       "(1030, 9)"
      ]
     },
     "execution_count": 4,
     "metadata": {},
     "output_type": "execute_result"
    }
   ],
   "source": [
    "df.shape"
   ]
  },
  {
   "cell_type": "code",
   "execution_count": 5,
   "metadata": {
    "execution": {
     "iopub.execute_input": "2020-11-19T07:24:57.869937Z",
     "iopub.status.busy": "2020-11-19T07:24:57.868963Z",
     "iopub.status.idle": "2020-11-19T07:24:57.872772Z",
     "shell.execute_reply": "2020-11-19T07:24:57.873372Z"
    },
    "papermill": {
     "duration": 0.031578,
     "end_time": "2020-11-19T07:24:57.873549",
     "exception": false,
     "start_time": "2020-11-19T07:24:57.841971",
     "status": "completed"
    },
    "tags": []
   },
   "outputs": [
    {
     "data": {
      "text/plain": [
       "Cement                0\n",
       "Blast Furnace Slag    0\n",
       "Fly Ash               0\n",
       "Water                 0\n",
       "Superplasticizer      0\n",
       "Coarse Aggregate      0\n",
       "Fine Aggregate        0\n",
       "Age                   0\n",
       "Strength              0\n",
       "dtype: int64"
      ]
     },
     "execution_count": 5,
     "metadata": {},
     "output_type": "execute_result"
    }
   ],
   "source": [
    "df.isnull().sum()"
   ]
  },
  {
   "cell_type": "code",
   "execution_count": 6,
   "metadata": {
    "execution": {
     "iopub.execute_input": "2020-11-19T07:24:57.919977Z",
     "iopub.status.busy": "2020-11-19T07:24:57.918895Z",
     "iopub.status.idle": "2020-11-19T07:24:57.921542Z",
     "shell.execute_reply": "2020-11-19T07:24:57.922036Z"
    },
    "papermill": {
     "duration": 0.028567,
     "end_time": "2020-11-19T07:24:57.922178",
     "exception": false,
     "start_time": "2020-11-19T07:24:57.893611",
     "status": "completed"
    },
    "tags": []
   },
   "outputs": [],
   "source": [
    "x=df.iloc[:,:-1]"
   ]
  },
  {
   "cell_type": "code",
   "execution_count": 7,
   "metadata": {
    "execution": {
     "iopub.execute_input": "2020-11-19T07:24:57.978775Z",
     "iopub.status.busy": "2020-11-19T07:24:57.977739Z",
     "iopub.status.idle": "2020-11-19T07:24:57.981812Z",
     "shell.execute_reply": "2020-11-19T07:24:57.982480Z"
    },
    "papermill": {
     "duration": 0.040269,
     "end_time": "2020-11-19T07:24:57.982643",
     "exception": false,
     "start_time": "2020-11-19T07:24:57.942374",
     "status": "completed"
    },
    "tags": []
   },
   "outputs": [
    {
     "data": {
      "text/html": [
       "<div>\n",
       "<style scoped>\n",
       "    .dataframe tbody tr th:only-of-type {\n",
       "        vertical-align: middle;\n",
       "    }\n",
       "\n",
       "    .dataframe tbody tr th {\n",
       "        vertical-align: top;\n",
       "    }\n",
       "\n",
       "    .dataframe thead th {\n",
       "        text-align: right;\n",
       "    }\n",
       "</style>\n",
       "<table border=\"1\" class=\"dataframe\">\n",
       "  <thead>\n",
       "    <tr style=\"text-align: right;\">\n",
       "      <th></th>\n",
       "      <th>Cement</th>\n",
       "      <th>Blast Furnace Slag</th>\n",
       "      <th>Fly Ash</th>\n",
       "      <th>Water</th>\n",
       "      <th>Superplasticizer</th>\n",
       "      <th>Coarse Aggregate</th>\n",
       "      <th>Fine Aggregate</th>\n",
       "      <th>Age</th>\n",
       "    </tr>\n",
       "  </thead>\n",
       "  <tbody>\n",
       "    <tr>\n",
       "      <th>0</th>\n",
       "      <td>540.0</td>\n",
       "      <td>0.0</td>\n",
       "      <td>0.0</td>\n",
       "      <td>162.0</td>\n",
       "      <td>2.5</td>\n",
       "      <td>1040.0</td>\n",
       "      <td>676.0</td>\n",
       "      <td>28</td>\n",
       "    </tr>\n",
       "    <tr>\n",
       "      <th>1</th>\n",
       "      <td>540.0</td>\n",
       "      <td>0.0</td>\n",
       "      <td>0.0</td>\n",
       "      <td>162.0</td>\n",
       "      <td>2.5</td>\n",
       "      <td>1055.0</td>\n",
       "      <td>676.0</td>\n",
       "      <td>28</td>\n",
       "    </tr>\n",
       "    <tr>\n",
       "      <th>2</th>\n",
       "      <td>332.5</td>\n",
       "      <td>142.5</td>\n",
       "      <td>0.0</td>\n",
       "      <td>228.0</td>\n",
       "      <td>0.0</td>\n",
       "      <td>932.0</td>\n",
       "      <td>594.0</td>\n",
       "      <td>270</td>\n",
       "    </tr>\n",
       "    <tr>\n",
       "      <th>3</th>\n",
       "      <td>332.5</td>\n",
       "      <td>142.5</td>\n",
       "      <td>0.0</td>\n",
       "      <td>228.0</td>\n",
       "      <td>0.0</td>\n",
       "      <td>932.0</td>\n",
       "      <td>594.0</td>\n",
       "      <td>365</td>\n",
       "    </tr>\n",
       "    <tr>\n",
       "      <th>4</th>\n",
       "      <td>198.6</td>\n",
       "      <td>132.4</td>\n",
       "      <td>0.0</td>\n",
       "      <td>192.0</td>\n",
       "      <td>0.0</td>\n",
       "      <td>978.4</td>\n",
       "      <td>825.5</td>\n",
       "      <td>360</td>\n",
       "    </tr>\n",
       "  </tbody>\n",
       "</table>\n",
       "</div>"
      ],
      "text/plain": [
       "   Cement  Blast Furnace Slag  Fly Ash  Water  Superplasticizer  \\\n",
       "0   540.0                 0.0      0.0  162.0               2.5   \n",
       "1   540.0                 0.0      0.0  162.0               2.5   \n",
       "2   332.5               142.5      0.0  228.0               0.0   \n",
       "3   332.5               142.5      0.0  228.0               0.0   \n",
       "4   198.6               132.4      0.0  192.0               0.0   \n",
       "\n",
       "   Coarse Aggregate  Fine Aggregate  Age  \n",
       "0            1040.0           676.0   28  \n",
       "1            1055.0           676.0   28  \n",
       "2             932.0           594.0  270  \n",
       "3             932.0           594.0  365  \n",
       "4             978.4           825.5  360  "
      ]
     },
     "execution_count": 7,
     "metadata": {},
     "output_type": "execute_result"
    }
   ],
   "source": [
    "x.head()"
   ]
  },
  {
   "cell_type": "code",
   "execution_count": 8,
   "metadata": {
    "execution": {
     "iopub.execute_input": "2020-11-19T07:24:58.030381Z",
     "iopub.status.busy": "2020-11-19T07:24:58.029324Z",
     "iopub.status.idle": "2020-11-19T07:24:58.032610Z",
     "shell.execute_reply": "2020-11-19T07:24:58.032007Z"
    },
    "papermill": {
     "duration": 0.029179,
     "end_time": "2020-11-19T07:24:58.032726",
     "exception": false,
     "start_time": "2020-11-19T07:24:58.003547",
     "status": "completed"
    },
    "tags": []
   },
   "outputs": [],
   "source": [
    "y=df.iloc[:,-1]"
   ]
  },
  {
   "cell_type": "code",
   "execution_count": 9,
   "metadata": {
    "execution": {
     "iopub.execute_input": "2020-11-19T07:24:58.082068Z",
     "iopub.status.busy": "2020-11-19T07:24:58.081158Z",
     "iopub.status.idle": "2020-11-19T07:24:58.084838Z",
     "shell.execute_reply": "2020-11-19T07:24:58.085427Z"
    },
    "papermill": {
     "duration": 0.031789,
     "end_time": "2020-11-19T07:24:58.085580",
     "exception": false,
     "start_time": "2020-11-19T07:24:58.053791",
     "status": "completed"
    },
    "tags": []
   },
   "outputs": [
    {
     "data": {
      "text/plain": [
       "0    79.99\n",
       "1    61.89\n",
       "2    40.27\n",
       "3    41.05\n",
       "4    44.30\n",
       "Name: Strength, dtype: float64"
      ]
     },
     "execution_count": 9,
     "metadata": {},
     "output_type": "execute_result"
    }
   ],
   "source": [
    "y.head()"
   ]
  },
  {
   "cell_type": "code",
   "execution_count": 10,
   "metadata": {
    "execution": {
     "iopub.execute_input": "2020-11-19T07:24:58.132511Z",
     "iopub.status.busy": "2020-11-19T07:24:58.131567Z",
     "iopub.status.idle": "2020-11-19T07:25:03.147750Z",
     "shell.execute_reply": "2020-11-19T07:25:03.148438Z"
    },
    "papermill": {
     "duration": 5.042584,
     "end_time": "2020-11-19T07:25:03.148699",
     "exception": false,
     "start_time": "2020-11-19T07:24:58.106115",
     "status": "completed"
    },
    "tags": []
   },
   "outputs": [],
   "source": [
    "import keras"
   ]
  },
  {
   "cell_type": "code",
   "execution_count": 11,
   "metadata": {
    "execution": {
     "iopub.execute_input": "2020-11-19T07:25:03.214015Z",
     "iopub.status.busy": "2020-11-19T07:25:03.213059Z",
     "iopub.status.idle": "2020-11-19T07:25:03.215474Z",
     "shell.execute_reply": "2020-11-19T07:25:03.214808Z"
    },
    "papermill": {
     "duration": 0.039294,
     "end_time": "2020-11-19T07:25:03.215617",
     "exception": false,
     "start_time": "2020-11-19T07:25:03.176323",
     "status": "completed"
    },
    "tags": []
   },
   "outputs": [],
   "source": [
    "from keras.models import Sequential\n",
    "from keras.layers import Dense"
   ]
  },
  {
   "cell_type": "code",
   "execution_count": 12,
   "metadata": {
    "execution": {
     "iopub.execute_input": "2020-11-19T07:25:03.281003Z",
     "iopub.status.busy": "2020-11-19T07:25:03.280094Z",
     "iopub.status.idle": "2020-11-19T07:25:03.282432Z",
     "shell.execute_reply": "2020-11-19T07:25:03.281764Z"
    },
    "papermill": {
     "duration": 0.038361,
     "end_time": "2020-11-19T07:25:03.282577",
     "exception": false,
     "start_time": "2020-11-19T07:25:03.244216",
     "status": "completed"
    },
    "tags": []
   },
   "outputs": [],
   "source": [
    "n=len(x.columns)"
   ]
  },
  {
   "cell_type": "code",
   "execution_count": 13,
   "metadata": {
    "execution": {
     "iopub.execute_input": "2020-11-19T07:25:03.364600Z",
     "iopub.status.busy": "2020-11-19T07:25:03.361593Z",
     "iopub.status.idle": "2020-11-19T07:25:03.368114Z",
     "shell.execute_reply": "2020-11-19T07:25:03.367216Z"
    },
    "papermill": {
     "duration": 0.048442,
     "end_time": "2020-11-19T07:25:03.368363",
     "exception": false,
     "start_time": "2020-11-19T07:25:03.319921",
     "status": "completed"
    },
    "tags": []
   },
   "outputs": [
    {
     "data": {
      "text/plain": [
       "8"
      ]
     },
     "execution_count": 13,
     "metadata": {},
     "output_type": "execute_result"
    }
   ],
   "source": [
    "n"
   ]
  },
  {
   "cell_type": "markdown",
   "metadata": {
    "papermill": {
     "duration": 0.021393,
     "end_time": "2020-11-19T07:25:03.413112",
     "exception": false,
     "start_time": "2020-11-19T07:25:03.391719",
     "status": "completed"
    },
    "tags": []
   },
   "source": [
    "# Regression model using Keras"
   ]
  },
  {
   "cell_type": "code",
   "execution_count": 14,
   "metadata": {
    "execution": {
     "iopub.execute_input": "2020-11-19T07:25:03.465810Z",
     "iopub.status.busy": "2020-11-19T07:25:03.465062Z",
     "iopub.status.idle": "2020-11-19T07:25:03.469763Z",
     "shell.execute_reply": "2020-11-19T07:25:03.469176Z"
    },
    "papermill": {
     "duration": 0.034435,
     "end_time": "2020-11-19T07:25:03.469886",
     "exception": false,
     "start_time": "2020-11-19T07:25:03.435451",
     "status": "completed"
    },
    "tags": []
   },
   "outputs": [],
   "source": [
    "def regression_model():\n",
    "    model=Sequential()\n",
    "    model.add(Dense(10,activation='relu',input_shape=(n,)))\n",
    "    model.add(Dense(1))\n",
    "    \n",
    "    model.compile(optimizer='adam',loss='mean_squared_error')\n",
    "    return model"
   ]
  },
  {
   "cell_type": "markdown",
   "metadata": {
    "papermill": {
     "duration": 0.021337,
     "end_time": "2020-11-19T07:25:03.513982",
     "exception": false,
     "start_time": "2020-11-19T07:25:03.492645",
     "status": "completed"
    },
    "tags": []
   },
   "source": [
    "# Train test split"
   ]
  },
  {
   "cell_type": "code",
   "execution_count": 15,
   "metadata": {
    "execution": {
     "iopub.execute_input": "2020-11-19T07:25:03.563842Z",
     "iopub.status.busy": "2020-11-19T07:25:03.563059Z",
     "iopub.status.idle": "2020-11-19T07:25:04.272854Z",
     "shell.execute_reply": "2020-11-19T07:25:04.271259Z"
    },
    "papermill": {
     "duration": 0.737198,
     "end_time": "2020-11-19T07:25:04.272987",
     "exception": false,
     "start_time": "2020-11-19T07:25:03.535789",
     "status": "completed"
    },
    "tags": []
   },
   "outputs": [],
   "source": [
    "from sklearn.model_selection import train_test_split\n",
    "\n",
    "xtrain,xtest,ytrain,ytest=train_test_split(x,y,test_size=0.2)\n"
   ]
  },
  {
   "cell_type": "code",
   "execution_count": 16,
   "metadata": {
    "execution": {
     "iopub.execute_input": "2020-11-19T07:25:04.324159Z",
     "iopub.status.busy": "2020-11-19T07:25:04.323133Z",
     "iopub.status.idle": "2020-11-19T07:25:07.161031Z",
     "shell.execute_reply": "2020-11-19T07:25:07.160404Z"
    },
    "papermill": {
     "duration": 2.864998,
     "end_time": "2020-11-19T07:25:07.161159",
     "exception": false,
     "start_time": "2020-11-19T07:25:04.296161",
     "status": "completed"
    },
    "tags": []
   },
   "outputs": [],
   "source": [
    "reg=regression_model()"
   ]
  },
  {
   "cell_type": "code",
   "execution_count": 17,
   "metadata": {
    "execution": {
     "iopub.execute_input": "2020-11-19T07:25:07.213140Z",
     "iopub.status.busy": "2020-11-19T07:25:07.212216Z",
     "iopub.status.idle": "2020-11-19T07:25:10.400795Z",
     "shell.execute_reply": "2020-11-19T07:25:10.399948Z"
    },
    "papermill": {
     "duration": 3.216551,
     "end_time": "2020-11-19T07:25:10.400914",
     "exception": false,
     "start_time": "2020-11-19T07:25:07.184363",
     "status": "completed"
    },
    "tags": []
   },
   "outputs": [
    {
     "name": "stdout",
     "output_type": "stream",
     "text": [
      "Epoch 1/30\n",
      "26/26 [==============================] - 0s 4ms/step - loss: 5015.0303\n",
      "Epoch 2/30\n",
      "26/26 [==============================] - 0s 4ms/step - loss: 2126.3953\n",
      "Epoch 3/30\n",
      "26/26 [==============================] - 0s 3ms/step - loss: 1564.7030\n",
      "Epoch 4/30\n",
      "26/26 [==============================] - 0s 3ms/step - loss: 1144.2994\n",
      "Epoch 5/30\n",
      "26/26 [==============================] - 0s 3ms/step - loss: 857.0233\n",
      "Epoch 6/30\n",
      "26/26 [==============================] - 0s 3ms/step - loss: 659.2784\n",
      "Epoch 7/30\n",
      "26/26 [==============================] - 0s 3ms/step - loss: 523.0212\n",
      "Epoch 8/30\n",
      "26/26 [==============================] - 0s 3ms/step - loss: 432.0320\n",
      "Epoch 9/30\n",
      "26/26 [==============================] - 0s 3ms/step - loss: 354.5895\n",
      "Epoch 10/30\n",
      "26/26 [==============================] - 0s 3ms/step - loss: 304.3114\n",
      "Epoch 11/30\n",
      "26/26 [==============================] - 0s 2ms/step - loss: 268.3750\n",
      "Epoch 12/30\n",
      "26/26 [==============================] - 0s 2ms/step - loss: 239.6523\n",
      "Epoch 13/30\n",
      "26/26 [==============================] - 0s 2ms/step - loss: 216.6014\n",
      "Epoch 14/30\n",
      "26/26 [==============================] - 0s 2ms/step - loss: 198.8486\n",
      "Epoch 15/30\n",
      "26/26 [==============================] - 0s 2ms/step - loss: 181.7505\n",
      "Epoch 16/30\n",
      "26/26 [==============================] - 0s 2ms/step - loss: 171.5747\n",
      "Epoch 17/30\n",
      "26/26 [==============================] - 0s 2ms/step - loss: 163.3916\n",
      "Epoch 18/30\n",
      "26/26 [==============================] - 0s 2ms/step - loss: 151.2482\n",
      "Epoch 19/30\n",
      "26/26 [==============================] - 0s 2ms/step - loss: 144.2459\n",
      "Epoch 20/30\n",
      "26/26 [==============================] - 0s 2ms/step - loss: 136.7757\n",
      "Epoch 21/30\n",
      "26/26 [==============================] - 0s 2ms/step - loss: 131.3728\n",
      "Epoch 22/30\n",
      "26/26 [==============================] - 0s 2ms/step - loss: 125.8975\n",
      "Epoch 23/30\n",
      "26/26 [==============================] - 0s 2ms/step - loss: 121.7362\n",
      "Epoch 24/30\n",
      "26/26 [==============================] - 0s 2ms/step - loss: 117.1004\n",
      "Epoch 25/30\n",
      "26/26 [==============================] - 0s 2ms/step - loss: 113.1475\n",
      "Epoch 26/30\n",
      "26/26 [==============================] - 0s 2ms/step - loss: 111.0529\n",
      "Epoch 27/30\n",
      "26/26 [==============================] - 0s 2ms/step - loss: 106.5442\n",
      "Epoch 28/30\n",
      "26/26 [==============================] - 0s 2ms/step - loss: 104.1288\n",
      "Epoch 29/30\n",
      "26/26 [==============================] - 0s 2ms/step - loss: 99.7374\n",
      "Epoch 30/30\n",
      "26/26 [==============================] - 0s 2ms/step - loss: 98.3910\n"
     ]
    },
    {
     "data": {
      "text/plain": [
       "<tensorflow.python.keras.callbacks.History at 0x7fda3839f710>"
      ]
     },
     "execution_count": 17,
     "metadata": {},
     "output_type": "execute_result"
    }
   ],
   "source": [
    "reg.fit(xtrain,ytrain,epochs=30,verbose=1)"
   ]
  },
  {
   "cell_type": "code",
   "execution_count": 18,
   "metadata": {
    "execution": {
     "iopub.execute_input": "2020-11-19T07:25:10.508400Z",
     "iopub.status.busy": "2020-11-19T07:25:10.507426Z",
     "iopub.status.idle": "2020-11-19T07:25:10.674940Z",
     "shell.execute_reply": "2020-11-19T07:25:10.674314Z"
    },
    "papermill": {
     "duration": 0.222502,
     "end_time": "2020-11-19T07:25:10.675061",
     "exception": false,
     "start_time": "2020-11-19T07:25:10.452559",
     "status": "completed"
    },
    "tags": []
   },
   "outputs": [
    {
     "name": "stdout",
     "output_type": "stream",
     "text": [
      "7/7 [==============================] - 0s 2ms/step - loss: 103.6474\n"
     ]
    },
    {
     "data": {
      "text/plain": [
       "103.64735412597656"
      ]
     },
     "execution_count": 18,
     "metadata": {},
     "output_type": "execute_result"
    }
   ],
   "source": [
    "loss_ans=reg.evaluate(xtest,ytest)\n",
    "loss_ans"
   ]
  },
  {
   "cell_type": "code",
   "execution_count": 19,
   "metadata": {
    "execution": {
     "iopub.execute_input": "2020-11-19T07:25:10.785092Z",
     "iopub.status.busy": "2020-11-19T07:25:10.784049Z",
     "iopub.status.idle": "2020-11-19T07:25:10.910668Z",
     "shell.execute_reply": "2020-11-19T07:25:10.910072Z"
    },
    "papermill": {
     "duration": 0.184634,
     "end_time": "2020-11-19T07:25:10.910803",
     "exception": false,
     "start_time": "2020-11-19T07:25:10.726169",
     "status": "completed"
    },
    "tags": []
   },
   "outputs": [
    {
     "data": {
      "text/plain": [
       "10.180734828868781"
      ]
     },
     "execution_count": 19,
     "metadata": {},
     "output_type": "execute_result"
    }
   ],
   "source": [
    "from sklearn.metrics import mean_squared_error\n",
    "\n",
    "ypred=reg.predict(xtest)\n",
    "\n",
    "res=np.sqrt(mean_squared_error(ypred,ytest))\n",
    "\n",
    "res"
   ]
  },
  {
   "cell_type": "code",
   "execution_count": 20,
   "metadata": {
    "execution": {
     "iopub.execute_input": "2020-11-19T07:25:11.020427Z",
     "iopub.status.busy": "2020-11-19T07:25:11.019413Z",
     "iopub.status.idle": "2020-11-19T07:25:11.027857Z",
     "shell.execute_reply": "2020-11-19T07:25:11.028389Z"
    },
    "papermill": {
     "duration": 0.065906,
     "end_time": "2020-11-19T07:25:11.028562",
     "exception": false,
     "start_time": "2020-11-19T07:25:10.962656",
     "status": "completed"
    },
    "tags": []
   },
   "outputs": [
    {
     "data": {
      "text/plain": [
       "[array([[ 0.32495445, -0.02743392, -0.21422076,  0.5713249 ,  0.14821684,\n",
       "          0.08236382, -0.31645915, -0.30690232,  0.50296724, -0.34210467],\n",
       "        [ 0.18985766,  0.20006597, -0.25712478, -0.11589641,  0.5555579 ,\n",
       "         -0.10152784,  0.45379412, -0.08618525, -0.19376503,  0.20247102],\n",
       "        [-0.380287  , -0.28092617, -0.6119376 , -0.49288434, -0.12672152,\n",
       "          0.12839358,  0.19673443, -0.40411037,  0.06394875,  0.3990757 ],\n",
       "        [ 0.03720981,  0.29466957, -0.43978202,  0.57863647, -0.26991862,\n",
       "          0.43162474, -0.3269139 ,  0.05889595,  0.12791947,  0.16946065],\n",
       "        [ 0.34743905,  0.48240256,  0.3410448 , -0.31508848,  0.03018208,\n",
       "          0.30973515,  0.18289596, -0.06250596,  0.20575508, -0.40801197],\n",
       "        [-0.272614  , -0.30097958,  0.32969952, -0.3227455 ,  0.03819826,\n",
       "         -0.14341691,  0.00669783, -0.4958815 ,  0.17858857, -0.06368577],\n",
       "        [-0.40038776,  0.54691267,  0.36878756,  0.27910125, -0.03286177,\n",
       "          0.1486569 , -0.30418   , -0.10635704, -0.10135105, -0.5559662 ],\n",
       "        [-0.01335615, -0.27868834,  0.35343972,  0.12755756,  0.3125147 ,\n",
       "         -0.5872313 , -0.4035204 , -0.07739443,  0.41379404,  0.11700779]],\n",
       "       dtype=float32),\n",
       " array([ 0.        ,  0.02065059, -0.01302951,  0.06629182,  0.08051028,\n",
       "        -0.02338045,  0.        ,  0.        ,  0.01230985,  0.        ],\n",
       "       dtype=float32),\n",
       " array([[ 0.6503611 ],\n",
       "        [ 0.5607825 ],\n",
       "        [-0.28777015],\n",
       "        [-0.22547473],\n",
       "        [-0.15738712],\n",
       "        [-0.66201884],\n",
       "        [-0.04090303],\n",
       "        [-0.11236238],\n",
       "        [ 0.53951913],\n",
       "        [-0.3477808 ]], dtype=float32),\n",
       " array([0.01177654], dtype=float32)]"
      ]
     },
     "execution_count": 20,
     "metadata": {},
     "output_type": "execute_result"
    }
   ],
   "source": [
    "reg.get_weights()"
   ]
  },
  {
   "cell_type": "code",
   "execution_count": null,
   "metadata": {
    "papermill": {
     "duration": 0.052109,
     "end_time": "2020-11-19T07:25:11.133369",
     "exception": false,
     "start_time": "2020-11-19T07:25:11.081260",
     "status": "completed"
    },
    "tags": []
   },
   "outputs": [],
   "source": []
  }
 ],
 "metadata": {
  "kernelspec": {
   "display_name": "Python 3",
   "language": "python",
   "name": "python3"
  },
  "language_info": {
   "codemirror_mode": {
    "name": "ipython",
    "version": 3
   },
   "file_extension": ".py",
   "mimetype": "text/x-python",
   "name": "python",
   "nbconvert_exporter": "python",
   "pygments_lexer": "ipython3",
   "version": "3.7.6"
  },
  "papermill": {
   "duration": 18.828474,
   "end_time": "2020-11-19T07:25:12.216365",
   "environment_variables": {},
   "exception": null,
   "input_path": "__notebook__.ipynb",
   "output_path": "__notebook__.ipynb",
   "parameters": {},
   "start_time": "2020-11-19T07:24:53.387891",
   "version": "2.1.0"
  }
 },
 "nbformat": 4,
 "nbformat_minor": 4
}
