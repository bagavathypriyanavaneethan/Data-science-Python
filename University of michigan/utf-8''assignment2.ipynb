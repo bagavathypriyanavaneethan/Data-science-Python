{
 "cells": [
  {
   "cell_type": "markdown",
   "metadata": {
    "deletable": false,
    "editable": false,
    "nbgrader": {
     "checksum": "5a8d839ee00398fa3bd3bc58ec642beb",
     "grade": false,
     "grade_id": "cell-a839e7b47494b4c3",
     "locked": true,
     "schema_version": 1,
     "solution": false
    }
   },
   "source": [
    "# Assignment 2\n",
    "For this assignment you'll be looking at 2017 data on immunizations from the CDC. Your datafile for this assignment is in [assets/NISPUF17.csv](assets/NISPUF17.csv). A data users guide for this, which you'll need to map the variables in the data to the questions being asked, is available at [assets/NIS-PUF17-DUG.pdf](assets/NIS-PUF17-DUG.pdf). **Note: you may have to go to your Jupyter tree (click on the Coursera image) and navigate to the assignment 2 assets folder to see this PDF file).**"
   ]
  },
  {
   "cell_type": "markdown",
   "metadata": {
    "deletable": false,
    "editable": false,
    "hideCode": false,
    "hidePrompt": false,
    "nbgrader": {
     "checksum": "aaa5e730f40ba21c1bc94f864bad4742",
     "grade": false,
     "grade_id": "cell-58fc2e5938733f6a",
     "locked": true,
     "schema_version": 1,
     "solution": false
    }
   },
   "source": [
    "## Question 1\n",
    "Write a function called `proportion_of_education` which returns the proportion of children in the dataset who had a mother with the education levels equal to less than high school (<12), high school (12), more than high school but not a college graduate (>12) and college degree.\n",
    "\n",
    "*This function should return a dictionary in the form of (use the correct numbers, do not round numbers):* \n",
    "```\n",
    "    {\"less than high school\":0.2,\n",
    "    \"high school\":0.4,\n",
    "    \"more than high school but not college\":0.2,\n",
    "    \"college\":0.2}\n",
    "```\n"
   ]
  },
  {
   "cell_type": "code",
   "execution_count": 1,
   "metadata": {},
   "outputs": [
    {
     "data": {
      "text/html": [
       "<div>\n",
       "<style scoped>\n",
       "    .dataframe tbody tr th:only-of-type {\n",
       "        vertical-align: middle;\n",
       "    }\n",
       "\n",
       "    .dataframe tbody tr th {\n",
       "        vertical-align: top;\n",
       "    }\n",
       "\n",
       "    .dataframe thead th {\n",
       "        text-align: right;\n",
       "    }\n",
       "</style>\n",
       "<table border=\"1\" class=\"dataframe\">\n",
       "  <thead>\n",
       "    <tr style=\"text-align: right;\">\n",
       "      <th></th>\n",
       "      <th>Unnamed: 0</th>\n",
       "      <th>SEQNUMC</th>\n",
       "      <th>SEQNUMHH</th>\n",
       "      <th>PDAT</th>\n",
       "      <th>PROVWT_D</th>\n",
       "      <th>RDDWT_D</th>\n",
       "      <th>STRATUM</th>\n",
       "      <th>YEAR</th>\n",
       "      <th>AGECPOXR</th>\n",
       "      <th>HAD_CPOX</th>\n",
       "      <th>...</th>\n",
       "      <th>XVRCTY2</th>\n",
       "      <th>XVRCTY3</th>\n",
       "      <th>XVRCTY4</th>\n",
       "      <th>XVRCTY5</th>\n",
       "      <th>XVRCTY6</th>\n",
       "      <th>XVRCTY7</th>\n",
       "      <th>XVRCTY8</th>\n",
       "      <th>XVRCTY9</th>\n",
       "      <th>INS_STAT2_I</th>\n",
       "      <th>INS_BREAK_I</th>\n",
       "    </tr>\n",
       "  </thead>\n",
       "  <tbody>\n",
       "    <tr>\n",
       "      <th>0</th>\n",
       "      <td>1</td>\n",
       "      <td>128521</td>\n",
       "      <td>12852</td>\n",
       "      <td>2</td>\n",
       "      <td>NaN</td>\n",
       "      <td>235.916956</td>\n",
       "      <td>1031</td>\n",
       "      <td>2017</td>\n",
       "      <td>NaN</td>\n",
       "      <td>2</td>\n",
       "      <td>...</td>\n",
       "      <td></td>\n",
       "      <td></td>\n",
       "      <td>NaN</td>\n",
       "      <td>NaN</td>\n",
       "      <td>NaN</td>\n",
       "      <td>NaN</td>\n",
       "      <td>NaN</td>\n",
       "      <td>NaN</td>\n",
       "      <td>NaN</td>\n",
       "      <td>NaN</td>\n",
       "    </tr>\n",
       "    <tr>\n",
       "      <th>1</th>\n",
       "      <td>2</td>\n",
       "      <td>10741</td>\n",
       "      <td>1074</td>\n",
       "      <td>2</td>\n",
       "      <td>NaN</td>\n",
       "      <td>957.353840</td>\n",
       "      <td>1068</td>\n",
       "      <td>2017</td>\n",
       "      <td>NaN</td>\n",
       "      <td>2</td>\n",
       "      <td>...</td>\n",
       "      <td></td>\n",
       "      <td></td>\n",
       "      <td>NaN</td>\n",
       "      <td>NaN</td>\n",
       "      <td>NaN</td>\n",
       "      <td>NaN</td>\n",
       "      <td>NaN</td>\n",
       "      <td>NaN</td>\n",
       "      <td>NaN</td>\n",
       "      <td>NaN</td>\n",
       "    </tr>\n",
       "    <tr>\n",
       "      <th>2</th>\n",
       "      <td>3</td>\n",
       "      <td>220011</td>\n",
       "      <td>22001</td>\n",
       "      <td>2</td>\n",
       "      <td>NaN</td>\n",
       "      <td>189.611299</td>\n",
       "      <td>1050</td>\n",
       "      <td>2017</td>\n",
       "      <td>NaN</td>\n",
       "      <td>2</td>\n",
       "      <td>...</td>\n",
       "      <td></td>\n",
       "      <td></td>\n",
       "      <td>NaN</td>\n",
       "      <td>NaN</td>\n",
       "      <td>NaN</td>\n",
       "      <td>NaN</td>\n",
       "      <td>NaN</td>\n",
       "      <td>NaN</td>\n",
       "      <td>NaN</td>\n",
       "      <td>NaN</td>\n",
       "    </tr>\n",
       "    <tr>\n",
       "      <th>3</th>\n",
       "      <td>4</td>\n",
       "      <td>86131</td>\n",
       "      <td>8613</td>\n",
       "      <td>1</td>\n",
       "      <td>675.430817</td>\n",
       "      <td>333.447418</td>\n",
       "      <td>1040</td>\n",
       "      <td>2017</td>\n",
       "      <td>NaN</td>\n",
       "      <td>2</td>\n",
       "      <td>...</td>\n",
       "      <td></td>\n",
       "      <td></td>\n",
       "      <td>NaN</td>\n",
       "      <td>NaN</td>\n",
       "      <td>NaN</td>\n",
       "      <td>NaN</td>\n",
       "      <td>NaN</td>\n",
       "      <td>NaN</td>\n",
       "      <td>1.0</td>\n",
       "      <td>2.0</td>\n",
       "    </tr>\n",
       "    <tr>\n",
       "      <th>4</th>\n",
       "      <td>5</td>\n",
       "      <td>227141</td>\n",
       "      <td>22714</td>\n",
       "      <td>1</td>\n",
       "      <td>482.617748</td>\n",
       "      <td>278.768063</td>\n",
       "      <td>1008</td>\n",
       "      <td>2017</td>\n",
       "      <td>NaN</td>\n",
       "      <td>2</td>\n",
       "      <td>...</td>\n",
       "      <td></td>\n",
       "      <td></td>\n",
       "      <td>NaN</td>\n",
       "      <td>NaN</td>\n",
       "      <td>NaN</td>\n",
       "      <td>NaN</td>\n",
       "      <td>NaN</td>\n",
       "      <td>NaN</td>\n",
       "      <td>2.0</td>\n",
       "      <td>1.0</td>\n",
       "    </tr>\n",
       "  </tbody>\n",
       "</table>\n",
       "<p>5 rows × 454 columns</p>\n",
       "</div>"
      ],
      "text/plain": [
       "   Unnamed: 0  SEQNUMC  SEQNUMHH  PDAT    PROVWT_D     RDDWT_D  STRATUM  YEAR  \\\n",
       "0           1   128521     12852     2         NaN  235.916956     1031  2017   \n",
       "1           2    10741      1074     2         NaN  957.353840     1068  2017   \n",
       "2           3   220011     22001     2         NaN  189.611299     1050  2017   \n",
       "3           4    86131      8613     1  675.430817  333.447418     1040  2017   \n",
       "4           5   227141     22714     1  482.617748  278.768063     1008  2017   \n",
       "\n",
       "   AGECPOXR  HAD_CPOX  ...  XVRCTY2  XVRCTY3  XVRCTY4  XVRCTY5  XVRCTY6  \\\n",
       "0       NaN         2  ...                        NaN      NaN      NaN   \n",
       "1       NaN         2  ...                        NaN      NaN      NaN   \n",
       "2       NaN         2  ...                        NaN      NaN      NaN   \n",
       "3       NaN         2  ...                        NaN      NaN      NaN   \n",
       "4       NaN         2  ...                        NaN      NaN      NaN   \n",
       "\n",
       "   XVRCTY7  XVRCTY8  XVRCTY9  INS_STAT2_I  INS_BREAK_I  \n",
       "0      NaN      NaN      NaN          NaN          NaN  \n",
       "1      NaN      NaN      NaN          NaN          NaN  \n",
       "2      NaN      NaN      NaN          NaN          NaN  \n",
       "3      NaN      NaN      NaN          1.0          2.0  \n",
       "4      NaN      NaN      NaN          2.0          1.0  \n",
       "\n",
       "[5 rows x 454 columns]"
      ]
     },
     "execution_count": 1,
     "metadata": {},
     "output_type": "execute_result"
    }
   ],
   "source": [
    "import pandas as pd\n",
    "\n",
    "df=pd.read_csv('assets/NISPUF17.csv')\n",
    "df.head()"
   ]
  },
  {
   "cell_type": "code",
   "execution_count": 2,
   "metadata": {},
   "outputs": [
    {
     "data": {
      "text/plain": [
       "array([4, 3, 1, 2])"
      ]
     },
     "execution_count": 2,
     "metadata": {},
     "output_type": "execute_result"
    }
   ],
   "source": [
    "df['EDUC1'].unique()"
   ]
  },
  {
   "cell_type": "code",
   "execution_count": 3,
   "metadata": {},
   "outputs": [
    {
     "data": {
      "text/plain": [
       "<Figure size 640x480 with 1 Axes>"
      ]
     },
     "metadata": {},
     "output_type": "display_data"
    }
   ],
   "source": [
    "import seaborn as sns\n",
    "\n",
    "sns.countplot(df['EDUC1'].unique())\n",
    "\n",
    "import matplotlib.pyplot as plt\n",
    "plt.show()"
   ]
  },
  {
   "cell_type": "code",
   "execution_count": 4,
   "metadata": {},
   "outputs": [
    {
     "data": {
      "text/plain": [
       "28465"
      ]
     },
     "execution_count": 4,
     "metadata": {},
     "output_type": "execute_result"
    }
   ],
   "source": [
    "len(df.where(cond=df['EDUC1']==2,axis=1))"
   ]
  },
  {
   "cell_type": "code",
   "execution_count": 5,
   "metadata": {},
   "outputs": [
    {
     "data": {
      "text/plain": [
       "4906"
      ]
     },
     "execution_count": 5,
     "metadata": {},
     "output_type": "execute_result"
    }
   ],
   "source": [
    "len(df.loc[df['EDUC1']==2])"
   ]
  },
  {
   "cell_type": "code",
   "execution_count": 6,
   "metadata": {},
   "outputs": [
    {
     "data": {
      "text/plain": [
       "28465"
      ]
     },
     "execution_count": 6,
     "metadata": {},
     "output_type": "execute_result"
    }
   ],
   "source": [
    "len(df)"
   ]
  },
  {
   "cell_type": "code",
   "execution_count": 8,
   "metadata": {
    "deletable": false,
    "nbgrader": {
     "checksum": "0ac58deb3f5ac988c643e903cbee7f3a",
     "grade": false,
     "grade_id": "cell-eea16d020eb52ae7",
     "locked": false,
     "schema_version": 1,
     "solution": true
    }
   },
   "outputs": [],
   "source": [
    "import numpy as np\n",
    "\n",
    "def proportion_of_education():\n",
    "    # your code goes here\n",
    "    # YOUR CODE HERE\n",
    "    EDUS=df['EDUC1']\n",
    "    edus=np.sort(EDUS.values)\n",
    "    poe={\"less than high school\":0,\n",
    "        \"high school\":0,\n",
    "        \"more than high school but not college\":0,\n",
    "        \"college\":0}\n",
    "    n=len(edus)\n",
    "    poe[\"less than high school\"]=np.sum(edus==1)/n\n",
    "    poe[\"high school\"]=np.sum(edus==2)/n\n",
    "    poe[\"more than high school but not college\"]=np.sum(edus==3)/n\n",
    "    poe[\"college\"]=np.sum(edus==4)/n\n",
    "    return poe\n",
    "    \n",
    "    \n",
    "    raise NotImplementedError()"
   ]
  },
  {
   "cell_type": "code",
   "execution_count": 9,
   "metadata": {
    "deletable": false,
    "editable": false,
    "hideCode": false,
    "hidePrompt": false,
    "nbgrader": {
     "checksum": "ac5d91a24a7f72f66c25d242c3d24a50",
     "grade": true,
     "grade_id": "cell-c0eeef201366f51c",
     "locked": true,
     "points": 1,
     "schema_version": 1,
     "solution": false
    }
   },
   "outputs": [],
   "source": [
    "assert type(proportion_of_education())==type({}), \"You must return a dictionary.\"\n",
    "assert len(proportion_of_education()) == 4, \"You have not returned a dictionary with four items in it.\"\n",
    "assert \"less than high school\" in proportion_of_education().keys(), \"You have not returned a dictionary with the correct keys.\"\n",
    "assert \"high school\" in proportion_of_education().keys(), \"You have not returned a dictionary with the correct keys.\"\n",
    "assert \"more than high school but not college\" in proportion_of_education().keys(), \"You have not returned a dictionary with the correct keys.\"\n",
    "assert \"college\" in proportion_of_education().keys(), \"You have not returned a dictionary with the correct keys.\"\n"
   ]
  },
  {
   "cell_type": "markdown",
   "metadata": {
    "deletable": false,
    "editable": false,
    "nbgrader": {
     "checksum": "562b78b7b9b79580269be0a3bebf4b42",
     "grade": false,
     "grade_id": "cell-8fcbb64516283f52",
     "locked": true,
     "schema_version": 1,
     "solution": false
    }
   },
   "source": [
    "## Question 2\n",
    "\n",
    "Let's explore the relationship between being fed breastmilk as a child and getting a seasonal influenza vaccine from a healthcare provider. Return a tuple of the average number of influenza vaccines for those children we know received breastmilk as a child and those who know did not.\n",
    "\n",
    "*This function should return a tuple in the form (use the correct numbers:*\n",
    "```\n",
    "(2.5, 0.1)\n",
    "```"
   ]
  },
  {
   "cell_type": "code",
   "execution_count": 10,
   "metadata": {},
   "outputs": [
    {
     "data": {
      "text/plain": [
       "array([ 1,  2, 99, 77])"
      ]
     },
     "execution_count": 10,
     "metadata": {},
     "output_type": "execute_result"
    }
   ],
   "source": [
    "df['CBF_01'].unique()"
   ]
  },
  {
   "cell_type": "code",
   "execution_count": 12,
   "metadata": {},
   "outputs": [
    {
     "data": {
      "text/plain": [
       "array([nan,  3.,  0.,  2.,  1.,  4.,  5.,  6.])"
      ]
     },
     "execution_count": 12,
     "metadata": {},
     "output_type": "execute_result"
    }
   ],
   "source": [
    "df['P_NUMFLU'].unique()"
   ]
  },
  {
   "cell_type": "code",
   "execution_count": 118,
   "metadata": {
    "deletable": false,
    "nbgrader": {
     "checksum": "a405d639063c4a6408365479f29c95c9",
     "grade": false,
     "grade_id": "cell-77f18c512324eabb",
     "locked": false,
     "schema_version": 1,
     "solution": true
    }
   },
   "outputs": [],
   "source": [
    "def average_influenza_doses():\n",
    "    # YOUR CODE HERE\n",
    "    vac=df.loc[df['CBF_01']==1,'P_NUMFLU'].mean(axis=0)\n",
    "    non=df.loc[df['CBF_01']==2,'P_NUMFLU'].mean(axis=0)\n",
    "    #print(vac.mean())\n",
    "    #print(vac.unique())\n",
    "    res=(vac,non)\n",
    "    print(res)\n",
    "    return res\n",
    "    raise NotImplementedError()"
   ]
  },
  {
   "cell_type": "code",
   "execution_count": 116,
   "metadata": {},
   "outputs": [],
   "source": [
    "def average_influenza_doses():\n",
    "    # YOUR CODE HERE\n",
    "    df_vac=df[(df['CBF_01']==1) | (df['CBF_01']==2) | (df['CBF_01']==77)]\n",
    "    vac=df_vac['P_NUMFLU'].mean()\n",
    "    df_not=df[(df['CBF_01']==99)]\n",
    "    non=df_not['P_NUMFLU'].mean()\n",
    "    res=(vac,non)\n",
    "    print((res))\n",
    "    return res\n",
    "    raise NotImplementedError()"
   ]
  },
  {
   "cell_type": "code",
   "execution_count": 10,
   "metadata": {},
   "outputs": [],
   "source": [
    "def average_influenza_doses():\n",
    "    cbf_flu=df.loc[:,['CBF_01','P_NUMFLU']]\n",
    "    \n",
    "    \n",
    "    cbf_flu1=cbf_flu[cbf_flu['CBF_01'] ==1].dropna()\n",
    "    cbf_flu2=cbf_flu[cbf_flu['CBF_01'] ==2].dropna()\n",
    "    \n",
    "    flu1=cbf_flu1['P_NUMFLU'].values.copy()\n",
    "    flu1[np.isnan(flu1)] = 0\n",
    "    f1=np.sum(flu1)/len(flu1)\n",
    "    \n",
    "    flu2=cbf_flu2['P_NUMFLU'].values.copy()\n",
    "    flu2[np.isnan(flu2)] = 0\n",
    "    f2=np.sum(flu2)/len(flu2)\n",
    "    \n",
    "    aid =(f1,f2)\n",
    "    return aid\n",
    "#(0.8523098542069207, 0.14350957316002108)"
   ]
  },
  {
   "cell_type": "code",
   "execution_count": 11,
   "metadata": {
    "deletable": false,
    "editable": false,
    "nbgrader": {
     "checksum": "19be955e97fdf7162d43fbb7c2c40951",
     "grade": true,
     "grade_id": "cell-54a3ba6cff31caa7",
     "locked": true,
     "points": 1,
     "schema_version": 1,
     "solution": false
    }
   },
   "outputs": [],
   "source": [
    "assert len(average_influenza_doses())==2, \"Return two values in a tuple, the first for yes and the second for no.\"\n"
   ]
  },
  {
   "cell_type": "markdown",
   "metadata": {
    "deletable": false,
    "editable": false,
    "nbgrader": {
     "checksum": "e10e2163f5957a0c398ef4f0b76b4efe",
     "grade": false,
     "grade_id": "cell-f63377f3c97aa7c4",
     "locked": true,
     "schema_version": 1,
     "solution": false
    }
   },
   "source": [
    "## Question 3\n",
    "It would be interesting to see if there is any evidence of a link between vaccine effectiveness and sex of the child. Calculate the ratio of the number of children who contracted chickenpox but were vaccinated against it (at least one varicella dose) versus those who were vaccinated but did not contract chicken pox. Return results by sex. \n",
    "\n",
    "*This function should return a dictionary in the form of (use the correct numbers):* \n",
    "```\n",
    "    {\"male\":0.2,\n",
    "    \"female\":0.4}\n",
    "```\n",
    "\n",
    "Note: To aid in verification, the `chickenpox_by_sex()['female']` value the autograder is looking for starts with the digits `0.0077`."
   ]
  },
  {
   "cell_type": "code",
   "execution_count": 19,
   "metadata": {},
   "outputs": [
    {
     "data": {
      "text/plain": [
       "array([ 2,  1, 77, 99])"
      ]
     },
     "execution_count": 19,
     "metadata": {},
     "output_type": "execute_result"
    }
   ],
   "source": [
    "df['HAD_CPOX'].unique()"
   ]
  },
  {
   "cell_type": "code",
   "execution_count": 21,
   "metadata": {},
   "outputs": [
    {
     "data": {
      "text/plain": [
       "array([nan,  1.,  0.,  2.,  3.])"
      ]
     },
     "execution_count": 21,
     "metadata": {},
     "output_type": "execute_result"
    }
   ],
   "source": [
    "df['P_NUMVRC'].unique()"
   ]
  },
  {
   "cell_type": "code",
   "execution_count": 22,
   "metadata": {},
   "outputs": [
    {
     "data": {
      "text/plain": [
       "array([1, 2])"
      ]
     },
     "execution_count": 22,
     "metadata": {},
     "output_type": "execute_result"
    }
   ],
   "source": [
    "df['SEX'].unique()"
   ]
  },
  {
   "cell_type": "code",
   "execution_count": 55,
   "metadata": {
    "deletable": false,
    "nbgrader": {
     "checksum": "b4d1b58acae002bc73eb0b19f95bc4af",
     "grade": false,
     "grade_id": "cell-a0a9e6fe67698006",
     "locked": false,
     "schema_version": 1,
     "solution": true
    }
   },
   "outputs": [],
   "source": [
    "def chickenpox_by_sex():\n",
    "    # YOUR CODE HERE\n",
    "    res={}\n",
    "    res['male']=(df.loc[(df['SEX']==1) & (df['HAD_CPOX']==2) & (df['P_NUMVRC']>=1)]).count(axis=0)/(df.loc[(df['SEX']==1) & (df['HAD_CPOX']==1) & (df['P_NUMVRC']>=1)]).count(axis=0)\n",
    "    res['female']=(df.loc[(df['SEX']==2) & (df['HAD_CPOX']==2) & (df['P_NUMVRC']>=1)]).count(axis=0)/(df.loc[(df['SEX']==2) & (df['HAD_CPOX']==1) & (df['P_NUMVRC']>=1)]).count(axis=0)\n",
    "    #print(res['male'])\n",
    "    return res\n",
    "    raise NotImplementedError()"
   ]
  },
  {
   "cell_type": "code",
   "execution_count": 12,
   "metadata": {},
   "outputs": [],
   "source": [
    "def chickenpox_by_sex():\n",
    "    # YOUR CODE HERE\n",
    "    cpo_sex=df[df['P_NUMVRC'].gt(0) & df['HAD_CPOX'].lt(3)].loc[:,['HAD_CPOX','SEX']]\n",
    "    #Male 1 Female 2\n",
    "    cpo1_sex1=len(cpo_sex[(cpo_sex['HAD_CPOX']==1) & (cpo_sex['SEX']==1)])\n",
    "    cpo1_sex2=len(cpo_sex[(cpo_sex['HAD_CPOX']==1) & (cpo_sex['SEX']==2)])\n",
    "    cpo2_sex1=len(cpo_sex[(cpo_sex['HAD_CPOX']==2) & (cpo_sex['SEX']==1)])\n",
    "    cpo2_sex2=len(cpo_sex[(cpo_sex['HAD_CPOX']==2) & (cpo_sex['SEX']==2)])\n",
    "    \n",
    "    cbs={\"male\":0,\n",
    "        \"female\":0}\n",
    "    cbs['male']=cpo1_sex1/cpo2_sex1\n",
    "    cbs['female']=cpo1_sex2/cpo2_sex2\n",
    "    return cbs\n",
    "    raise NotImplementedError()"
   ]
  },
  {
   "cell_type": "code",
   "execution_count": 13,
   "metadata": {
    "deletable": false,
    "editable": false,
    "nbgrader": {
     "checksum": "1b6a113a633c55699ae478a3a9ee9c33",
     "grade": true,
     "grade_id": "cell-c4f1714db100c865",
     "locked": true,
     "points": 1,
     "schema_version": 1,
     "solution": false
    }
   },
   "outputs": [],
   "source": [
    "assert len(chickenpox_by_sex())==2, \"Return a dictionary with two items, the first for males and the second for females.\"\n"
   ]
  },
  {
   "cell_type": "markdown",
   "metadata": {},
   "source": [
    "## Question 4\n",
    "A correlation is a statistical relationship between two variables. If we wanted to know if vaccines work, we might look at the correlation between the use of the vaccine and whether it results in prevention of the infection or disease [1]. In this question, you are to see if there is a correlation between having had the chicken pox and the number of chickenpox vaccine doses given (varicella).\n",
    "\n",
    "Some notes on interpreting the answer. The `had_chickenpox_column` is either `1` (for yes) or `2` (for no), and the `num_chickenpox_vaccine_column` is the number of doses a child has been given of the varicella vaccine. A positive correlation (e.g., `corr > 0`) means that an increase in `had_chickenpox_column` (which means more no’s) would also increase the values of `num_chickenpox_vaccine_column` (which means more doses of vaccine). If there is a negative correlation (e.g., `corr < 0`), it indicates that having had chickenpox is related to an increase in the number of vaccine doses.\n",
    "\n",
    "Also, `pval` is the probability that we observe a correlation between `had_chickenpox_column` and `num_chickenpox_vaccine_column` which is greater than or equal to a particular value occurred by chance. A small `pval` means that the observed correlation is highly unlikely to occur by chance. In this case, `pval` should be very small (will end in `e-18` indicating a very small number).\n",
    "\n",
    "[1] This isn’t really the full picture, since we are not looking at when the dose was given. It’s possible that children had chickenpox and then their parents went to get them the vaccine. Does this dataset have the data we would need to investigate the timing of the dose?"
   ]
  },
  {
   "cell_type": "code",
   "execution_count": 18,
   "metadata": {
    "deletable": false,
    "nbgrader": {
     "checksum": "3e645859949447913cd11d30eb33cb1e",
     "grade": false,
     "grade_id": "cell-8afff07f564cf79a",
     "locked": false,
     "schema_version": 1,
     "solution": true
    }
   },
   "outputs": [],
   "source": [
    "def corr_chickenpox():\n",
    "    import scipy.stats as stats\n",
    "    import numpy as np\n",
    "    import pandas as pd\n",
    "    \n",
    "    df = pd.read_csv(\"assets/NISPUF17.csv\", index_col=0)\n",
    "    df=df[df['HAD_CPOX'].lt(3)].loc[:,['HAD_CPOX','P_NUMVRC']].dropna()\n",
    "    df.columns=['had_chickenpox_column','num_chickenpox_vaccine_column']\n",
    "    # here is some stub code to actually run the correlation\n",
    "    corr, pval=stats.pearsonr(df[\"had_chickenpox_column\"],df[\"num_chickenpox_vaccine_column\"])\n",
    "    \n",
    "    # just return the correlation\n",
    "    return corr\n",
    "    raise NotImplementedError()"
   ]
  },
  {
   "cell_type": "code",
   "execution_count": 19,
   "metadata": {
    "deletable": false,
    "editable": false,
    "nbgrader": {
     "checksum": "ac50ccb747b99f6bbcc76da017e66528",
     "grade": true,
     "grade_id": "cell-73408733533a29a5",
     "locked": true,
     "points": 1,
     "schema_version": 1,
     "solution": false
    }
   },
   "outputs": [],
   "source": [
    "assert -1<=corr_chickenpox()<=1, \"You must return a float number between -1.0 and 1.0.\"\n"
   ]
  },
  {
   "cell_type": "code",
   "execution_count": null,
   "metadata": {},
   "outputs": [],
   "source": []
  }
 ],
 "metadata": {
  "anaconda-cloud": {},
  "coursera": {
   "schema_names": [
    "mooc_adswpy_1_v2_assignment2"
   ]
  },
  "hide_code_all_hidden": false,
  "kernelspec": {
   "display_name": "Python 3",
   "language": "python",
   "name": "python3"
  },
  "language_info": {
   "codemirror_mode": {
    "name": "ipython",
    "version": 3
   },
   "file_extension": ".py",
   "mimetype": "text/x-python",
   "name": "python",
   "nbconvert_exporter": "python",
   "pygments_lexer": "ipython3",
   "version": "3.7.3"
  }
 },
 "nbformat": 4,
 "nbformat_minor": 1
}
