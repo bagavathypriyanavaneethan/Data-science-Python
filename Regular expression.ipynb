{
 "cells": [
  {
   "cell_type": "markdown",
   "metadata": {},
   "source": [
    "# Regular expression"
   ]
  },
  {
   "cell_type": "code",
   "execution_count": 1,
   "metadata": {},
   "outputs": [],
   "source": [
    "import re"
   ]
  },
  {
   "cell_type": "markdown",
   "metadata": {},
   "source": [
    "**Defining the pattern to match**"
   ]
  },
  {
   "cell_type": "code",
   "execution_count": 2,
   "metadata": {},
   "outputs": [],
   "source": [
    "p=re.compile('[a-z]+')"
   ]
  },
  {
   "cell_type": "code",
   "execution_count": 3,
   "metadata": {},
   "outputs": [
    {
     "data": {
      "text/plain": [
       "re.compile(r'[a-z]+', re.UNICODE)"
      ]
     },
     "execution_count": 3,
     "metadata": {},
     "output_type": "execute_result"
    }
   ],
   "source": [
    "p"
   ]
  },
  {
   "cell_type": "code",
   "execution_count": 4,
   "metadata": {},
   "outputs": [
    {
     "name": "stdout",
     "output_type": "stream",
     "text": [
      "<re.Match object; span=(0, 5), match='priya'>\n"
     ]
    }
   ],
   "source": [
    "print(p.match('priya'))"
   ]
  },
  {
   "cell_type": "code",
   "execution_count": 5,
   "metadata": {},
   "outputs": [
    {
     "name": "stdout",
     "output_type": "stream",
     "text": [
      "None\n"
     ]
    }
   ],
   "source": [
    "print(p.match('Priya'))"
   ]
  },
  {
   "cell_type": "markdown",
   "metadata": {},
   "source": [
    "**As P is not matched according to the regex given**"
   ]
  },
  {
   "cell_type": "code",
   "execution_count": 11,
   "metadata": {},
   "outputs": [],
   "source": [
    "m=p.match('bagavathyPriya')"
   ]
  },
  {
   "cell_type": "code",
   "execution_count": 12,
   "metadata": {},
   "outputs": [
    {
     "data": {
      "text/plain": [
       "0"
      ]
     },
     "execution_count": 12,
     "metadata": {},
     "output_type": "execute_result"
    }
   ],
   "source": [
    "m.start()"
   ]
  },
  {
   "cell_type": "code",
   "execution_count": 13,
   "metadata": {},
   "outputs": [
    {
     "data": {
      "text/plain": [
       "9"
      ]
     },
     "execution_count": 13,
     "metadata": {},
     "output_type": "execute_result"
    }
   ],
   "source": [
    "m.end()"
   ]
  },
  {
   "cell_type": "code",
   "execution_count": 14,
   "metadata": {},
   "outputs": [
    {
     "data": {
      "text/plain": [
       "(0, 9)"
      ]
     },
     "execution_count": 14,
     "metadata": {},
     "output_type": "execute_result"
    }
   ],
   "source": [
    "m.span()"
   ]
  },
  {
   "cell_type": "code",
   "execution_count": 15,
   "metadata": {},
   "outputs": [
    {
     "data": {
      "text/plain": [
       "'bagavathy'"
      ]
     },
     "execution_count": 15,
     "metadata": {},
     "output_type": "execute_result"
    }
   ],
   "source": [
    "m.group()"
   ]
  },
  {
   "cell_type": "markdown",
   "metadata": {},
   "source": [
    "**These methods gives the start, end position, span of the match and grouped match of the regex respectively. Note it takes upto the words before the capital P occurs**"
   ]
  },
  {
   "cell_type": "markdown",
   "metadata": {},
   "source": [
    "**match() takes only the first character match and don't look at any other location of a string**"
   ]
  },
  {
   "cell_type": "code",
   "execution_count": 16,
   "metadata": {},
   "outputs": [],
   "source": [
    "a=p.search('::::apple:::')"
   ]
  },
  {
   "cell_type": "code",
   "execution_count": 18,
   "metadata": {},
   "outputs": [
    {
     "data": {
      "text/plain": [
       "(4, 9)"
      ]
     },
     "execution_count": 18,
     "metadata": {},
     "output_type": "execute_result"
    }
   ],
   "source": [
    "a.span()"
   ]
  },
  {
   "cell_type": "code",
   "execution_count": 19,
   "metadata": {},
   "outputs": [
    {
     "data": {
      "text/plain": [
       "'apple'"
      ]
     },
     "execution_count": 19,
     "metadata": {},
     "output_type": "execute_result"
    }
   ],
   "source": [
    "a.group()"
   ]
  },
  {
   "cell_type": "markdown",
   "metadata": {},
   "source": [
    "**search() takes the pattern from any location of the matching in the string**"
   ]
  },
  {
   "cell_type": "code",
   "execution_count": 22,
   "metadata": {},
   "outputs": [
    {
     "name": "stdout",
     "output_type": "stream",
     "text": [
      "Found names are Abi\n"
     ]
    }
   ],
   "source": [
    "pat=re.compile('[A-Z][a-z]*')\n",
    "match=pat.search('Abi is my classmate, Bibi is my roomate')\n",
    "\n",
    "if match:\n",
    "    print('Found names are',match.group())"
   ]
  },
  {
   "cell_type": "markdown",
   "metadata": {},
   "source": [
    "**The above regex is used to match the name,but it returns only the first match. In order to find all the matches that fits to the pattern, we have to use findall**"
   ]
  },
  {
   "cell_type": "code",
   "execution_count": 24,
   "metadata": {},
   "outputs": [
    {
     "name": "stdout",
     "output_type": "stream",
     "text": [
      "Found names are ['Abi', 'Bibi']\n"
     ]
    }
   ],
   "source": [
    "pat=re.compile('[A-Z][a-z]*')\n",
    "match=pat.findall('Abi is my classmate, Bibi is my roomate')\n",
    "\n",
    "if match:\n",
    "    print('Found names are',match)"
   ]
  },
  {
   "cell_type": "markdown",
   "metadata": {},
   "source": [
    "**It gives the list of matched patterns**"
   ]
  },
  {
   "cell_type": "code",
   "execution_count": 27,
   "metadata": {},
   "outputs": [
    {
     "name": "stdout",
     "output_type": "stream",
     "text": [
      "Abi\n",
      "Bibi\n"
     ]
    }
   ],
   "source": [
    "pat=re.compile('[A-Z][a-z]*')\n",
    "match=pat.finditer('Abi is my classmate, Bibi is my roomate')\n",
    "\n",
    "for i in match:\n",
    "    print(i.group())"
   ]
  },
  {
   "cell_type": "markdown",
   "metadata": {},
   "source": [
    "**finditer() returns the iterator, and it can be used in loops easily**"
   ]
  },
  {
   "cell_type": "markdown",
   "metadata": {},
   "source": [
    "## Model level functions"
   ]
  },
  {
   "cell_type": "code",
   "execution_count": 40,
   "metadata": {},
   "outputs": [
    {
     "data": {
      "text/plain": [
       "['DS', 'RE', 'ML', 'DL', 'API']"
      ]
     },
     "execution_count": 40,
     "metadata": {},
     "output_type": "execute_result"
    }
   ],
   "source": [
    "re.findall('[A-Z][A-Z]*','some of the commonly used abbreviations in data science (DS) are RE,ML,DL,API')"
   ]
  },
  {
   "cell_type": "markdown",
   "metadata": {},
   "source": [
    "**It can be used to extract the abbreviations from the data**"
   ]
  },
  {
   "cell_type": "markdown",
   "metadata": {},
   "source": [
    "## More meta characters"
   ]
  },
  {
   "cell_type": "code",
   "execution_count": 44,
   "metadata": {},
   "outputs": [
    {
     "name": "stdout",
     "output_type": "stream",
     "text": [
      "['AB', 'AB', 'CB']\n"
     ]
    }
   ],
   "source": [
    "Grade='AABBCDABADACB'\n",
    "\n",
    "print(re.findall('AB|CB',Grade))\n"
   ]
  },
  {
   "cell_type": "markdown",
   "metadata": {},
   "source": [
    "**| operator is used to perform 'or' operation. The above returns the occurence of AB and CB**"
   ]
  },
  {
   "cell_type": "code",
   "execution_count": 58,
   "metadata": {},
   "outputs": [
    {
     "name": "stdout",
     "output_type": "stream",
     "text": [
      "['a', 'b', 'c', 'd', 'e', 'a', 'b', 'd', 'i', 'f', 'h', 'o', 'e', 'j', 'f']\n"
     ]
    }
   ],
   "source": [
    "Characters='abcde9289abdifhoejf'\n",
    "\n",
    "print(re.findall('[^0-9]',Characters))"
   ]
  },
  {
   "cell_type": "markdown",
   "metadata": {},
   "source": [
    "**The ^ operation is used to eliminate specific characters from the string.It is like the not operation**"
   ]
  },
  {
   "cell_type": "code",
   "execution_count": 69,
   "metadata": {},
   "outputs": [
    {
     "name": "stdout",
     "output_type": "stream",
     "text": [
      "beautifully\n",
      "gracefully\n"
     ]
    }
   ],
   "source": [
    "text='She dressed up beautifully and danced very gracefully'\n",
    "\n",
    "ab=re.finditer('[a-z]*ly',text)\n",
    "\n",
    "for i in ab:\n",
    "    print(i.group())"
   ]
  },
  {
   "cell_type": "markdown",
   "metadata": {},
   "source": [
    "**It can be used to find the adverbs**"
   ]
  },
  {
   "cell_type": "code",
   "execution_count": 76,
   "metadata": {},
   "outputs": [
    {
     "name": "stdout",
     "output_type": "stream",
     "text": [
      "['110']\n",
      "[]\n",
      "['550']\n",
      "['10']\n"
     ]
    }
   ],
   "source": [
    "numbers=[110,322,550,10]\n",
    "\n",
    "for i in numbers:\n",
    "    a=str(i)\n",
    "    print(re.findall('[0-9]*0$',a))"
   ]
  },
  {
   "cell_type": "markdown",
   "metadata": {},
   "source": [
    "**The $ operator is used to indicate the end**"
   ]
  },
  {
   "cell_type": "markdown",
   "metadata": {},
   "source": [
    "## Named groups"
   ]
  },
  {
   "cell_type": "code",
   "execution_count": 80,
   "metadata": {},
   "outputs": [
    {
     "name": "stdout",
     "output_type": "stream",
     "text": [
      "{'first': 'Bagavathy', 'last': 'Priya'}\n",
      "{'first': 'Saravana', 'last': 'Kumar'}\n"
     ]
    }
   ],
   "source": [
    "names=['Bagavathy Priya','Saravana Kumar']\n",
    "\n",
    "for i in names:\n",
    "    res=re.match(r'(?P<first>\\w+) (?P<last>\\w+)',i)\n",
    "    print(res.groupdict())"
   ]
  },
  {
   "cell_type": "markdown",
   "metadata": {},
   "source": [
    "**We can able to name some groups using the ?P operation**"
   ]
  },
  {
   "cell_type": "markdown",
   "metadata": {},
   "source": [
    "## Modifying string"
   ]
  },
  {
   "cell_type": "code",
   "execution_count": 87,
   "metadata": {},
   "outputs": [
    {
     "name": "stdout",
     "output_type": "stream",
     "text": [
      "['Raj', 'Vincy', 'Zoe']\n"
     ]
    }
   ],
   "source": [
    "pat=re.compile(',')\n",
    "\n",
    "text='Raj,Vincy,Zoe'\n",
    "\n",
    "print(pat.split(text))"
   ]
  },
  {
   "cell_type": "markdown",
   "metadata": {},
   "source": [
    "**split() is used to list the text according to the regex specified, it can be any , here I given ',' operator**"
   ]
  },
  {
   "cell_type": "markdown",
   "metadata": {},
   "source": [
    "## Search and replace"
   ]
  },
  {
   "cell_type": "code",
   "execution_count": 88,
   "metadata": {},
   "outputs": [],
   "source": [
    "sen='Priya and Emy are working in AB project,Priya is taking the data cleaning part and Emy is doing the modelling part'"
   ]
  },
  {
   "cell_type": "markdown",
   "metadata": {},
   "source": [
    "**If Emy left from the project and Abi working on the same, we have to replace every occurences of Emy with the name Abi, We can do this by using sub() method**"
   ]
  },
  {
   "cell_type": "code",
   "execution_count": 89,
   "metadata": {},
   "outputs": [
    {
     "data": {
      "text/plain": [
       "'Priya and Abi are working in AB project,Priya is taking the data cleaning part and Abi is doing the modelling part'"
      ]
     },
     "execution_count": 89,
     "metadata": {},
     "output_type": "execute_result"
    }
   ],
   "source": [
    "pat=re.compile('Emy')\n",
    "\n",
    "pat.sub('Abi',sen)"
   ]
  },
  {
   "cell_type": "markdown",
   "metadata": {},
   "source": [
    "## Insights from messy data"
   ]
  },
  {
   "cell_type": "code",
   "execution_count": 109,
   "metadata": {},
   "outputs": [],
   "source": [
    "txt=\"VFD\\n483686339687510016|Mon Jun 30 18:59:44 +0000 2014|Hobby Lobby ruling seems likely to make it harder for women to get contraception in the future @aaroncarroll writes http://nyti.ms/1iO0g23\\n483683719476432896|Mon Jun 30 18:49:19 +0000 2014|Leprosy, Still Claiming Victims http://nyti.ms/1nZIuG9\\n483657174275874817|Mon Jun 30 17:03:50 +0000 2014|Justices Rule in Favor of Hobby Lobby http://nyti.ms/VAgtgX\\n483652347860885504|Mon Jun 30 16:44:40 +0000 2014|Supreme Court Declines Case Contesting Ban on Gay ‘Conversion Therapy’ http://nyti.ms/1iNwGd1\\n483651450342735872|Mon Jun 30 16:41:06 +0000 2014|RT @UpshotNYT: Evidence-based medicine, or why hardly anyone has tonsils removed these days: http://nyti.ms/1sRDCdc\\n483651253374033921|Mon Jun 30 16:40:19 +0000 2014|RT @jessbidgood: I spent 3 days outside Boston’s @PPact clinic to look at how SCOTUS\\' buffer-zone ruling is felt there: http://t.co/wyNjQuP…\\n483650611528093697|Mon Jun 30 16:37:46 +0000 2014|RT @celiadugger: Scientists: morning after pills don\\'t cause abortions in way abortion opponents contend in Hobby Lobby case. http://t.co/k…\\n483650393164222465|Mon Jun 30 16:36:54 +0000 2014|#health The New Old Age Blog: Elderly Patients Often Overtreated for Diabetes, Study Suggests #diabetes http://nyti.ms/VAcS2c\\n483650390668230656|Mon Jun 30 16:36:53 +0000 2014|Recipes for Health: Orecchiette With Fresh #nature and Dried Beans and Tomatoes http://nyti.ms/1nZe0Ek\\n483646143776456705|Mon Jun 30 16:20:01 +0000 2014|Several doctors said “this view did not reflect the way the birth control methods actually work.” From this piece: http://nyti.ms/xnIqKL\\n483645610885931008|Mon Jun 30 16:17:53 +0000 2014|The companies objected to some of the contraceptive methods, saying they are tantamount to abortion.\\n483645357025669120|Mon Jun 30 16:16:53 +0000 2014|Updates on the 5-to-4 Hobby Lobby decision. http://nyti.ms/1iNqsJY\\n483645132928221184|Mon Jun 30 16:16:00 +0000 2014|Supreme Court ruled that requiring family-owned corporations to pay for insurance for contraception violated religious freedom #law.\\n483644313973587969|Mon Jun 30 16:12:44 +0000 2014|Worth revisiting. @PamBelluck @eckholm’s piece on religious groups’ beliefs that contraceptives are form of abortion http://nyti.ms/xnIqKL\\n483629544063389696|Mon Jun 30 15:14:03 +0000 2014|Well: How #Music May Make Babies Team Players http://nyti.ms/1lshGf2\\n483625740777168899|Mon Jun 30 14:58:56 +0000 2014|Supreme Court Rules in Contraceptive Case http://nyti.ms/1lseH6h\\n483625738357071872|Mon Jun 30 14:58:56 +0000 2014|The New Health Care: What the Reduction in Tonsillectomies Teaches Us About Medicine http://nyti.ms/1m2xmd9\\n483624988629811200|Mon Jun 30 14:55:57 +0000 2014|RT @WilliamJBroad: Why Teenagers Act Crazy http://nyti.ms/1qmj9Ls\\n483624693501816832|Mon Jun 30 14:54:46 +0000 2014|RT @jswatz: Facebook tinkering with our feeds to emotional contagion. Should I feel Hawthorne effect or Stockholm Syndrome? http://t.co/xOp…\\n483624639047172096|Mon Jun 30 14:54:33 +0000 2014|RT @cslnyt: Devastating errors after military care, a NYT investigation shows  http://nyti.ms/1wVzVBP\\n483624560743706624|Mon Jun 30 14:54:15 +0000 2014|RT @David_Dobbs: Pistorius Was Not Mentally Ill at Time of Shooting, jessbidgood@ibm.co Psychiatrists Report, ppact@gmail.com  via @nytimes http://nyti.ms/1m1hWpq\\n483465680792989697|Mon Jun 30 04:22:55 +0000 2014|Well\""
   ]
  },
  {
   "cell_type": "markdown",
   "metadata": {},
   "source": [
    "**If we have a messy data like the above from twitter, we can able to extract some meaningful details like website,email,hastags,date,profile names(@...),etc using regular expression.We are going to get profile names with the @keyword**"
   ]
  },
  {
   "cell_type": "code",
   "execution_count": 110,
   "metadata": {},
   "outputs": [
    {
     "data": {
      "text/plain": [
       "['@aaroncarroll',\n",
       " '@UpshotNYT',\n",
       " '@jessbidgood',\n",
       " '@PPact',\n",
       " '@celiadugger',\n",
       " '@PamBelluck',\n",
       " '@eckholm',\n",
       " '@WilliamJBroad',\n",
       " '@jswatz',\n",
       " '@cslnyt',\n",
       " '@David_Dobbs',\n",
       " '@ibm',\n",
       " '@gmail',\n",
       " '@nytimes']"
      ]
     },
     "execution_count": 110,
     "metadata": {},
     "output_type": "execute_result"
    }
   ],
   "source": [
    "pattern='@[\\w\\d]*'\n",
    "\n",
    "re.findall(pattern,txt)"
   ]
  },
  {
   "cell_type": "markdown",
   "metadata": {},
   "source": [
    "**Here we get the profile names from the data**"
   ]
  },
  {
   "cell_type": "code",
   "execution_count": 111,
   "metadata": {},
   "outputs": [
    {
     "data": {
      "text/plain": [
       "['#health', '#diabetes', '#nature', '#law', '#Music']"
      ]
     },
     "execution_count": 111,
     "metadata": {},
     "output_type": "execute_result"
    }
   ],
   "source": [
    "pattern='#[\\w\\d]*'\n",
    "\n",
    "re.findall(pattern,txt)"
   ]
  },
  {
   "cell_type": "markdown",
   "metadata": {},
   "source": [
    "**Thus we got the hastags**"
   ]
  },
  {
   "cell_type": "code",
   "execution_count": 112,
   "metadata": {},
   "outputs": [
    {
     "name": "stdout",
     "output_type": "stream",
     "text": [
      "['jessbidgood@ibm.co', 'ppact@gmail.com']\n"
     ]
    }
   ],
   "source": [
    "pattern=re.findall(r\"[A-Za-z0-9._%+-]+\"\n",
    "                     r\"@[A-Za-z0-9.-]+\"\n",
    "                     r\"\\.[A-Za-z]{2,4}\", txt)\n",
    "\n",
    "print(pattern)"
   ]
  },
  {
   "cell_type": "markdown",
   "metadata": {},
   "source": [
    "**Using this regex,we can able to get the mail id's**"
   ]
  },
  {
   "cell_type": "code",
   "execution_count": 131,
   "metadata": {},
   "outputs": [],
   "source": [
    "with open('C:/Users/Bagavathi Priya/Downloads/sampletxt.txt','r') as file:\n",
    "    txt=file.read()"
   ]
  },
  {
   "cell_type": "code",
   "execution_count": 132,
   "metadata": {},
   "outputs": [
    {
     "data": {
      "text/plain": [
       "'Buddhist universities and colleges in the United States\\\\nFrom Wikipedia, the free encyclopedia\\\\n\\nJump to navigationJump to search\\\\n\\\\nThis article needs additional citations for verification. Please help improve this article \\nby adding citations to reliable sources. Unsourced material may be challenged and removed.\\\\nFind sources: \"Buddhist universities and colleges in the United States\" â€“ news\\n Â· newspapers Â· books Â· scholar Â· JSTOR (December 2009) (Learn how and when to remove this template message)\\\\nThere are several Buddhist universities in the United States. Some of these have existed for decades and are accredited. Others are relatively new and are either in the process of being accredited or else have no formal accreditation. The list includes:\\\\n\\\\nDhammakaya Open University â€“ located in Azusa, California, part of the Thai Wat Phra Dhammakaya[1]\\\\nDharmakirti College â€“ located in Tucson, Arizona Now called Awam Tibetan Buddhist Institute (http://awaminstitute.org/)\\\\nDharma Realm Buddhist University â€“ located in Ukiah, California\\\\nEwam Buddhist Institute â€“ located in Arlee, Montana\\\\nNaropa University is located in Boulder, Colorado (Accredited by the Higher Learning Commission)\\\\nInstitute of Buddhist Studies â€“ located in Berkeley, California\\\\nMaitripa College â€“ located in Portland, Oregon\\\\nSoka University of America â€“ located in Aliso Viejo, California\\\\nUniversity of the West â€“ located in Rosemead, California\\\\nWon Institute of Graduate Studies â€“ located in Glenside, Pennsylvania\\\\nReferences[edit]\\\\n^ Banchanon, Phongphiphat (3 February 2015).[Getting to know the Dhammakaya network]. Forbes Thailand (in Thai). Retrieved 11 November 2016.\\\\nExternal links[edit]\\\\nList of Buddhist Universities and Colleges in the world\\\\n'"
      ]
     },
     "execution_count": 132,
     "metadata": {},
     "output_type": "execute_result"
    }
   ],
   "source": [
    "txt"
   ]
  },
  {
   "cell_type": "code",
   "execution_count": 138,
   "metadata": {},
   "outputs": [
    {
     "data": {
      "text/plain": [
       "'Buddhist universities and colleges in the United States\\\\nFrom Wikipedia, the free encyclopedia\\\\n\\nJump to navigationJump to search\\\\n\\\\nThis article needs additional citations for verification. Please help improve this article \\nby adding citations to reliable sources. Unsourced material may be challenged and removed.\\\\nFind sources: \"Buddhist universities and colleges in the United States\" - news\\n Â· newspapers Â· books Â· scholar Â· JSTOR (December 2009) (Learn how and when to remove this template message)\\\\nThere are several Buddhist universities in the United States. Some of these have existed for decades and are accredited. Others are relatively new and are either in the process of being accredited or else have no formal accreditation. The list includes:\\\\n\\\\nDhammakaya Open University - located in Azusa, California, part of the Thai Wat Phra Dhammakaya[1]\\\\nDharmakirti College - located in Tucson, Arizona Now called Awam Tibetan Buddhist Institute (http://awaminstitute.org/)\\\\nDharma Realm Buddhist University - located in Ukiah, California\\\\nEwam Buddhist Institute - located in Arlee, Montana\\\\nNaropa University is located in Boulder, Colorado (Accredited by the Higher Learning Commission)\\\\nInstitute of Buddhist Studies - located in Berkeley, California\\\\nMaitripa College - located in Portland, Oregon\\\\nSoka University of America - located in Aliso Viejo, California\\\\nUniversity of the West - located in Rosemead, California\\\\nWon Institute of Graduate Studies - located in Glenside, Pennsylvania\\\\nReferences[edit]\\\\n^ Banchanon, Phongphiphat (3 February 2015).[Getting to know the Dhammakaya network]. Forbes Thailand (in Thai). Retrieved 11 November 2016.\\\\nExternal links[edit]\\\\nList of Buddhist Universities and Colleges in the world\\\\n'"
      ]
     },
     "execution_count": 138,
     "metadata": {},
     "output_type": "execute_result"
    }
   ],
   "source": [
    "re.sub('â€“','-',txt)"
   ]
  },
  {
   "cell_type": "code",
   "execution_count": 142,
   "metadata": {},
   "outputs": [
    {
     "data": {
      "text/plain": [
       "'Buddhist universities and colleges in the United States\\\\nFrom Wikipedia, the free encyclopedia\\\\n\\nJump to navigationJump to search\\\\n\\\\nThis article needs additional citations for verification. Please help improve this article \\nby adding citations to reliable sources. Unsourced material may be challenged and removed.\\\\nFind sources: \"Buddhist universities and colleges in the United States\" - news\\n Â· newspapers Â· books Â· scholar Â· JSTOR (December 2009) (Learn how and when to remove this template message)\\\\nThere are several Buddhist universities in the United States. Some of these have existed for decades and are accredited. Others are relatively new and are either in the process of being accredited or else have no formal accreditation. The list includes:\\\\n\\\\nDhammakaya Open University - located in Azusa, California, part of the Thai Wat Phra Dhammakaya[1]\\\\nDharmakirti College - located in Tucson, Arizona Now called Awam Tibetan Buddhist Institute (http://awaminstitute.org/)\\\\nDharma Realm Buddhist University - located in Ukiah, California\\\\nEwam Buddhist Institute - located in Arlee, Montana\\\\nNaropa University is located in Boulder, Colorado (Accredited by the Higher Learning Commission)\\\\nInstitute of Buddhist Studies - located in Berkeley, California\\\\nMaitripa College - located in Portland, Oregon\\\\nSoka University of America - located in Aliso Viejo, California\\\\nUniversity of the West - located in Rosemead, California\\\\nWon Institute of Graduate Studies - located in Glenside, Pennsylvania\\\\nReferences[edit]\\\\n^ Banchanon, Phongphiphat (3 February 2015).[Getting to know the Dhammakaya network]. Forbes Thailand (in Thai). Retrieved 11 November 2016.\\\\nExternal links[edit]\\\\nList of Buddhist Universities and Colleges in the world\\\\n'"
      ]
     },
     "execution_count": 142,
     "metadata": {},
     "output_type": "execute_result"
    }
   ],
   "source": [
    "txt"
   ]
  },
  {
   "cell_type": "code",
   "execution_count": 146,
   "metadata": {},
   "outputs": [],
   "source": [
    "pattern=\"\"\"\n",
    "(?P<title>.*)        #the university title\n",
    "(–\\ located\\ in\\ )   #an indicator of the location\n",
    "(?P<city>\\w*)        #city the university is in\n",
    "(,\\ )                #separator for the state\n",
    "(?P<state>\\w*)       #the state the city is located in\"\"\"\n",
    "\n",
    "# Now when we call finditer() we just pass the re.VERBOSE flag as the last parameter, this makes it much\n",
    "# easier to understand large regexes!\n",
    "for item in re.finditer(pattern,txt,re.VERBOSE):\n",
    "    # We can get the dictionary returned for the item with .groupdict()\n",
    "    print(item.groupdict())"
   ]
  },
  {
   "cell_type": "markdown",
   "metadata": {},
   "source": [
    "{'title': 'Dhammakaya Open University ', 'city': 'Azusa', 'state': 'California'}\n",
    "{'title': 'Dharmakirti College ', 'city': 'Tucson', 'state': 'Arizona'}\n",
    "{'title': 'Dharma Realm Buddhist University ', 'city': 'Ukiah', 'state': 'California'}\n",
    "{'title': 'Ewam Buddhist Institute ', 'city': 'Arlee', 'state': 'Montana'}\n",
    "{'title': 'Institute of Buddhist Studies ', 'city': 'Berkeley', 'state': 'California'}\n",
    "{'title': 'Maitripa College ', 'city': 'Portland', 'state': 'Oregon'}\n",
    "{'title': 'University of the West ', 'city': 'Rosemead', 'state': 'California'}\n",
    "{'title': 'Won Institute of Graduate Studies ', 'city': 'Glenside', 'state': 'Pennsylvania'}"
   ]
  },
  {
   "cell_type": "code",
   "execution_count": null,
   "metadata": {},
   "outputs": [],
   "source": []
  }
 ],
 "metadata": {
  "kernelspec": {
   "display_name": "Python 3",
   "language": "python",
   "name": "python3"
  },
  "language_info": {
   "codemirror_mode": {
    "name": "ipython",
    "version": 3
   },
   "file_extension": ".py",
   "mimetype": "text/x-python",
   "name": "python",
   "nbconvert_exporter": "python",
   "pygments_lexer": "ipython3",
   "version": "3.7.6"
  }
 },
 "nbformat": 4,
 "nbformat_minor": 4
}
